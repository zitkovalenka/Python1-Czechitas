{
 "cells": [
  {
   "cell_type": "markdown",
   "metadata": {},
   "source": [
    "# ukol-7: Prodej vstupenek\n",
    "Vytvoř program na prodej vstupenek do letního kina. Ceny vstupenek jsou v tabulce níže.\n",
    "\n",
    "Datum\tCena\n",
    "1. 7. 2021 - 10. 8. 2021\t250 Kč\n",
    "11. 8. 2021 - 31. 8. 2021\t180 Kč\n",
    "Mimo tato data je středisko zavřené.\n",
    "\n",
    "Tvůj program se nejprve zeptá uživatele na datum a počet osob, pro které uživatel chce vstupenky koupit. Uživatel zadá datum ve středoevropském formátu. Převeď řetězec zadaný uživatelem na datum pomocí funkce datetime.strptime().\n",
    "\n",
    "Pokud by uživatel zadal příjezd mimo otevírací dobu, vypiš, že letní kino je v té době uzavřené. Pokud je letní kino otevřené, spočítej a vypiš cenu za vstupenky.\n",
    "\n",
    "Data lze porovnávat pomocí známých operátorů <, >, <=, >=, ==, !=. Tyto operátory můžeš použít v podmínce if. Níže vidíš příklad porovnání dvou dat. Program vypíše text \"Druhá událost se stala po první události\".\n",
    "\n",
    "from datetime import datetime\n",
    "prvni_udalost = datetime(2021, 7, 1)\n",
    "druha_udalost = datetime(2021, 7, 3)\n",
    "if prvni_datum < druhe_datum:\n",
    "  print(\"Druhá událost se stala po první události\")"
   ]
  },
  {
   "cell_type": "code",
   "execution_count": 40,
   "metadata": {},
   "outputs": [],
   "source": [
    "from datetime import datetime\n",
    "\n",
    "datum_koupe = datetime.strptime(input(\"Na jaké datum si přeješ vstupenky koupit?: \"), \"%d.%m.%Y\")\n",
    "pocet_osob = int(input(\"Pro kolik osob si přeješ vstupenku koupit?:\"))\n"
   ]
  },
  {
   "cell_type": "code",
   "execution_count": 41,
   "metadata": {},
   "outputs": [
    {
     "name": "stdout",
     "output_type": "stream",
     "text": [
      "V této době je letní kino uzavřené.\n"
     ]
    }
   ],
   "source": [
    "zacatek_sezony = datetime(2021,7,1)\n",
    "konec_drazsi_ceny = datetime(2021,8,10)\n",
    "# zacatek_levnejsi_ceny = datetime(2021,8,11)\n",
    "konec_sezony = datetime(2021,8,31)\n",
    "drazsi_vstupenka = 250\n",
    "levnejsi_vstupenka = 180\n",
    "\n",
    "if datum_koupe < zacatek_sezony:\n",
    "    print(\"V této době je letní kino uzavřené.\")\n",
    "elif datum_koupe <= konec_drazsi_ceny:\n",
    "    cena_vstupenky = pocet_osob * drazsi_vstupenka\n",
    "    print(f\"Cena {pocet_osob} vstupenek je: {cena_vstupenky}\")\n",
    "elif datum_koupe <= konec_sezony:\n",
    "    cena_vstupenky = pocet_osob * levnejsi_vstupenka\n",
    "    print(f\"Cena {pocet_osob} vstupenek je: {cena_vstupenky}\")\n",
    "else:\n",
    "    print(\"V této době je letní kino uzavřené.\")"
   ]
  }
 ],
 "metadata": {
  "kernelspec": {
   "display_name": "Python 3.9.10 64-bit",
   "language": "python",
   "name": "python3"
  },
  "language_info": {
   "codemirror_mode": {
    "name": "ipython",
    "version": 3
   },
   "file_extension": ".py",
   "mimetype": "text/x-python",
   "name": "python",
   "nbconvert_exporter": "python",
   "pygments_lexer": "ipython3",
   "version": "3.9.10"
  },
  "orig_nbformat": 4,
  "vscode": {
   "interpreter": {
    "hash": "e38bf14dbde2cc2b1c65074191568ca4c09c3e7a291e54e47c835aecf1cf853f"
   }
  }
 },
 "nbformat": 4,
 "nbformat_minor": 2
}
