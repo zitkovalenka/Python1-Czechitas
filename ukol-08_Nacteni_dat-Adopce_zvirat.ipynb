{
 "cells": [
  {
   "cell_type": "markdown",
   "metadata": {},
   "source": [
    "# ukol-08: Adopce zvířat\n",
    "Stáhni si dataset, který obsahuje seznam zvířat k adopci v ZOO Praha. Zdroj dat je Národní katalog otevřených dat.\n",
    "\n",
    "Data si načti pomocí metody pandas.read_csv(). Pozor, nastav oddělovač na znak středníku. Využij parametr sep.\n",
    "\n",
    "Seznam se s daty. Kolik má tabulka řádek a sloupců? Jak se sloupce jmenují?\n",
    "\n",
    "Které zvíře se nachází na záznamu s indexem 34? Vypiš pomocí iloc název tohoto zvířete v češtině i angličtině.\n",
    "\n",
    "### Bonus\n",
    "V lekci jsme zmínili, že existují i jiné typy indexů, než jen číselný, který sám vyrobí pandas. Například v kontextu souboru se zvířaty se nabízí hned několik sloupců, které bychom mohli využít jako index, které nejsou číselné.\n",
    "\n",
    "Načti znovu data, ale tentokrát nastav parametr index_col na název sloupce, který obsahuje název zvířete v češtině. Všimni si, že sloupec teď povýší na index a už se nenachází mezi \"běžnými\" sloupci.\n",
    "\n",
    "Pomocí <tvoje-promenna>.index.is_unique ověř, zda je nový index unikátní.\n",
    "\n",
    "Seřazený index je efektivnější a přehlednější. Seřaď index pomocí metody .sort_index(). Bacha, metoda vrátí novou tabulku se seřazeným indexem. Budeš tedy chtít přepsat původní tabulku.\n",
    "\n",
    "Vyhledej řádek indexovaný názvem \"Outloň váhavý\". Namísto metody .iloc využij .loc.\n",
    "\n",
    "Rozsahy fungují podobně jako u číselných indexů. Vyhledej záznamy mezi \"Želva Smithova\" a \"Želva žlutočelá\"."
   ]
  },
  {
   "cell_type": "code",
   "execution_count": 145,
   "metadata": {},
   "outputs": [
    {
     "name": "stderr",
     "output_type": "stream",
     "text": [
      "c:\\Users\\zitko\\AppData\\Local\\Programs\\Python\\Python39\\lib\\site-packages\\urllib3\\connectionpool.py:1045: InsecureRequestWarning: Unverified HTTPS request is being made to host 'raw.githubusercontent.com'. Adding certificate verification is strongly advised. See: https://urllib3.readthedocs.io/en/1.26.x/advanced-usage.html#ssl-warnings\n",
      "  warnings.warn(\n"
     ]
    },
    {
     "data": {
      "text/plain": [
       "30578"
      ]
     },
     "execution_count": 145,
     "metadata": {},
     "output_type": "execute_result"
    }
   ],
   "source": [
    "# import requests\n",
    "\n",
    "# url = \"https://raw.githubusercontent.com/andywaltlova/python-1-podzim-2022/master/ukoly/data/adopce-zvirat.csv\"\n",
    "# r = requests.get(url, allow_redirects=True, verify=False)\n",
    "# open('adopce-zvirat.csv', 'wb').write(r.content)\n"
   ]
  },
  {
   "cell_type": "code",
   "execution_count": 263,
   "metadata": {},
   "outputs": [],
   "source": [
    "import pandas\n",
    "\n",
    "adopce = pandas.read_csv(\"adopce-zvirat.csv\", sep = \";\", encoding = \"utf-16 LE\") "
   ]
  },
  {
   "cell_type": "code",
   "execution_count": 264,
   "metadata": {},
   "outputs": [
    {
     "data": {
      "text/plain": [
       "Index(['id', 'nazev_cz', 'nazev_en', 'trida_cz', 'cena', 'k_prohlidce'], dtype='object')"
      ]
     },
     "execution_count": 264,
     "metadata": {},
     "output_type": "execute_result"
    }
   ],
   "source": [
    "adopce.columns"
   ]
  },
  {
   "cell_type": "code",
   "execution_count": 265,
   "metadata": {},
   "outputs": [
    {
     "name": "stdout",
     "output_type": "stream",
     "text": [
      "<class 'pandas.core.frame.DataFrame'>\n",
      "RangeIndex: 513 entries, 0 to 512\n",
      "Data columns (total 6 columns):\n",
      " #   Column       Non-Null Count  Dtype \n",
      "---  ------       --------------  ----- \n",
      " 0   id           513 non-null    int64 \n",
      " 1   nazev_cz     513 non-null    object\n",
      " 2   nazev_en     513 non-null    object\n",
      " 3   trida_cz     513 non-null    object\n",
      " 4   cena         513 non-null    int64 \n",
      " 5   k_prohlidce  513 non-null    int64 \n",
      "dtypes: int64(3), object(3)\n",
      "memory usage: 24.2+ KB\n"
     ]
    }
   ],
   "source": [
    "adopce.info()\n"
   ]
  },
  {
   "cell_type": "code",
   "execution_count": 266,
   "metadata": {},
   "outputs": [
    {
     "data": {
      "text/plain": [
       "513"
      ]
     },
     "execution_count": 266,
     "metadata": {},
     "output_type": "execute_result"
    }
   ],
   "source": [
    "adopce.shape[0] # počet řádků jen"
   ]
  },
  {
   "cell_type": "code",
   "execution_count": 267,
   "metadata": {},
   "outputs": [
    {
     "data": {
      "text/plain": [
       "6"
      ]
     },
     "execution_count": 267,
     "metadata": {},
     "output_type": "execute_result"
    }
   ],
   "source": [
    "adopce.shape[1] # počet sloupců jen\n"
   ]
  },
  {
   "cell_type": "code",
   "execution_count": 268,
   "metadata": {},
   "outputs": [
    {
     "data": {
      "text/plain": [
       "nazev_cz     Ibis bílý\n",
       "nazev_en    White ibis\n",
       "Name: 34, dtype: object"
      ]
     },
     "execution_count": 268,
     "metadata": {},
     "output_type": "execute_result"
    }
   ],
   "source": [
    "adopce.iloc[34,1:3]   # název zvářete v ČJ i AJ na záznamu s indexem 34"
   ]
  },
  {
   "cell_type": "markdown",
   "metadata": {},
   "source": [
    "# Bonus"
   ]
  },
  {
   "cell_type": "code",
   "execution_count": 227,
   "metadata": {},
   "outputs": [],
   "source": [
    "import pandas\n",
    "\n",
    "adopce = pandas.read_csv(\"adopce-zvirat.csv\", sep = \";\", index_col = \"nazev_cz\", encoding = \"utf-16 LE\") "
   ]
  },
  {
   "cell_type": "code",
   "execution_count": 228,
   "metadata": {},
   "outputs": [
    {
     "name": "stdout",
     "output_type": "stream",
     "text": [
      "<class 'pandas.core.frame.DataFrame'>\n",
      "Index: 513 entries, Šváb syčivý to Kachnice kaštanová\n",
      "Data columns (total 5 columns):\n",
      " #   Column       Non-Null Count  Dtype \n",
      "---  ------       --------------  ----- \n",
      " 0   id           513 non-null    int64 \n",
      " 1   nazev_en     513 non-null    object\n",
      " 2   trida_cz     513 non-null    object\n",
      " 3   cena         513 non-null    int64 \n",
      " 4   k_prohlidce  513 non-null    int64 \n",
      "dtypes: int64(3), object(2)\n",
      "memory usage: 24.0+ KB\n"
     ]
    }
   ],
   "source": [
    "adopce.info()"
   ]
  },
  {
   "cell_type": "code",
   "execution_count": 229,
   "metadata": {},
   "outputs": [
    {
     "data": {
      "text/plain": [
       "Index(['id', 'nazev_en', 'trida_cz', 'cena', 'k_prohlidce'], dtype='object')"
      ]
     },
     "execution_count": 229,
     "metadata": {},
     "output_type": "execute_result"
    }
   ],
   "source": [
    "adopce.columns"
   ]
  },
  {
   "cell_type": "code",
   "execution_count": 230,
   "metadata": {},
   "outputs": [
    {
     "data": {
      "text/plain": [
       "True"
      ]
     },
     "execution_count": 230,
     "metadata": {},
     "output_type": "execute_result"
    }
   ],
   "source": [
    "adopce.index.is_unique    #  zjištění, že nový index je unikátní v tabulce"
   ]
  },
  {
   "cell_type": "code",
   "execution_count": 231,
   "metadata": {},
   "outputs": [
    {
     "data": {
      "text/html": [
       "<div>\n",
       "<style scoped>\n",
       "    .dataframe tbody tr th:only-of-type {\n",
       "        vertical-align: middle;\n",
       "    }\n",
       "\n",
       "    .dataframe tbody tr th {\n",
       "        vertical-align: top;\n",
       "    }\n",
       "\n",
       "    .dataframe thead th {\n",
       "        text-align: right;\n",
       "    }\n",
       "</style>\n",
       "<table border=\"1\" class=\"dataframe\">\n",
       "  <thead>\n",
       "    <tr style=\"text-align: right;\">\n",
       "      <th></th>\n",
       "      <th>id</th>\n",
       "      <th>nazev_en</th>\n",
       "      <th>trida_cz</th>\n",
       "      <th>cena</th>\n",
       "      <th>k_prohlidce</th>\n",
       "    </tr>\n",
       "    <tr>\n",
       "      <th>nazev_cz</th>\n",
       "      <th></th>\n",
       "      <th></th>\n",
       "      <th></th>\n",
       "      <th></th>\n",
       "      <th></th>\n",
       "    </tr>\n",
       "  </thead>\n",
       "  <tbody>\n",
       "    <tr>\n",
       "      <th>Achatina žravá</th>\n",
       "      <td>621</td>\n",
       "      <td>Giant African snail</td>\n",
       "      <td>Bezobratlí</td>\n",
       "      <td>1000</td>\n",
       "      <td>1</td>\n",
       "    </tr>\n",
       "    <tr>\n",
       "      <th>Adax</th>\n",
       "      <td>402</td>\n",
       "      <td>Addax</td>\n",
       "      <td>Savci</td>\n",
       "      <td>5000</td>\n",
       "      <td>1</td>\n",
       "    </tr>\n",
       "    <tr>\n",
       "      <th>Agama stepní</th>\n",
       "      <td>1214</td>\n",
       "      <td>Steppe agama</td>\n",
       "      <td>Plazi</td>\n",
       "      <td>1000</td>\n",
       "      <td>1</td>\n",
       "    </tr>\n",
       "    <tr>\n",
       "      <th>Agama turkestánská</th>\n",
       "      <td>1215</td>\n",
       "      <td>Turkestan rock agama</td>\n",
       "      <td>Plazi</td>\n",
       "      <td>1500</td>\n",
       "      <td>1</td>\n",
       "    </tr>\n",
       "    <tr>\n",
       "      <th>Agamka písečná</th>\n",
       "      <td>1233</td>\n",
       "      <td>Toad-headed agama</td>\n",
       "      <td>Plazi</td>\n",
       "      <td>1500</td>\n",
       "      <td>1</td>\n",
       "    </tr>\n",
       "    <tr>\n",
       "      <th>...</th>\n",
       "      <td>...</td>\n",
       "      <td>...</td>\n",
       "      <td>...</td>\n",
       "      <td>...</td>\n",
       "      <td>...</td>\n",
       "    </tr>\n",
       "    <tr>\n",
       "      <th>Želva černavá</th>\n",
       "      <td>673</td>\n",
       "      <td>Giant Asian pond turtle</td>\n",
       "      <td>Plazi</td>\n",
       "      <td>2000</td>\n",
       "      <td>1</td>\n",
       "    </tr>\n",
       "    <tr>\n",
       "      <th>Želva žlutočelá</th>\n",
       "      <td>37</td>\n",
       "      <td>Indochinese box turtle</td>\n",
       "      <td>Plazi</td>\n",
       "      <td>1000</td>\n",
       "      <td>1</td>\n",
       "    </tr>\n",
       "    <tr>\n",
       "      <th>Žirafa severní núbijská (= Rothschildova)</th>\n",
       "      <td>396</td>\n",
       "      <td>Rothschild's giraffe</td>\n",
       "      <td>Savci</td>\n",
       "      <td>50000</td>\n",
       "      <td>1</td>\n",
       "    </tr>\n",
       "    <tr>\n",
       "      <th>Žluna větší</th>\n",
       "      <td>1069</td>\n",
       "      <td>Greater yellownape</td>\n",
       "      <td>Ptáci</td>\n",
       "      <td>1500</td>\n",
       "      <td>1</td>\n",
       "    </tr>\n",
       "    <tr>\n",
       "      <th>Žluva hajní</th>\n",
       "      <td>1190</td>\n",
       "      <td>Eurasian golden oriole</td>\n",
       "      <td>Ptáci</td>\n",
       "      <td>1000</td>\n",
       "      <td>1</td>\n",
       "    </tr>\n",
       "  </tbody>\n",
       "</table>\n",
       "<p>513 rows × 5 columns</p>\n",
       "</div>"
      ],
      "text/plain": [
       "                                             id                 nazev_en  \\\n",
       "nazev_cz                                                                   \n",
       "Achatina žravá                              621      Giant African snail   \n",
       "Adax                                        402                    Addax   \n",
       "Agama stepní                               1214             Steppe agama   \n",
       "Agama turkestánská                         1215     Turkestan rock agama   \n",
       "Agamka písečná                             1233        Toad-headed agama   \n",
       "...                                         ...                      ...   \n",
       "Želva černavá                               673  Giant Asian pond turtle   \n",
       "Želva žlutočelá                              37   Indochinese box turtle   \n",
       "Žirafa severní núbijská (= Rothschildova)   396   Rothschild's giraffe     \n",
       "Žluna větší                                1069       Greater yellownape   \n",
       "Žluva hajní                                1190   Eurasian golden oriole   \n",
       "\n",
       "                                             trida_cz   cena  k_prohlidce  \n",
       "nazev_cz                                                                   \n",
       "Achatina žravá                             Bezobratlí   1000            1  \n",
       "Adax                                            Savci   5000            1  \n",
       "Agama stepní                                    Plazi   1000            1  \n",
       "Agama turkestánská                              Plazi   1500            1  \n",
       "Agamka písečná                                  Plazi   1500            1  \n",
       "...                                               ...    ...          ...  \n",
       "Želva černavá                                   Plazi   2000            1  \n",
       "Želva žlutočelá                                 Plazi   1000            1  \n",
       "Žirafa severní núbijská (= Rothschildova)       Savci  50000            1  \n",
       "Žluna větší                                     Ptáci   1500            1  \n",
       "Žluva hajní                                     Ptáci   1000            1  \n",
       "\n",
       "[513 rows x 5 columns]"
      ]
     },
     "execution_count": 231,
     "metadata": {},
     "output_type": "execute_result"
    }
   ],
   "source": [
    "adopce.sort_index()  # seřazení indexu. Metoda vrátí novou tabulku, budu chtít tedy přepsat původní tabulku."
   ]
  },
  {
   "cell_type": "code",
   "execution_count": 256,
   "metadata": {},
   "outputs": [],
   "source": [
    "#  chci přepsat původní tabulku se seřazeným indexem. Nelze použít with open... writelines(adobce.sort_index()), neporadí si s DataFrame. Uložilo mi to jen názvy sloupců.\n",
    "adopce.sort_index().to_csv(\"adopce-zvirat.csv\", sep = \";\", mode=\"w\", encoding=\"ANSI\")    # nemám tady tomu zase přiřadit nějakou proměnnou, př. adopce2 = adopce.sort_index().to_csv....."
   ]
  },
  {
   "cell_type": "code",
   "execution_count": 257,
   "metadata": {},
   "outputs": [
    {
     "data": {
      "text/html": [
       "<div>\n",
       "<style scoped>\n",
       "    .dataframe tbody tr th:only-of-type {\n",
       "        vertical-align: middle;\n",
       "    }\n",
       "\n",
       "    .dataframe tbody tr th {\n",
       "        vertical-align: top;\n",
       "    }\n",
       "\n",
       "    .dataframe thead th {\n",
       "        text-align: right;\n",
       "    }\n",
       "</style>\n",
       "<table border=\"1\" class=\"dataframe\">\n",
       "  <thead>\n",
       "    <tr style=\"text-align: right;\">\n",
       "      <th></th>\n",
       "      <th>id</th>\n",
       "      <th>nazev_en</th>\n",
       "      <th>trida_cz</th>\n",
       "      <th>cena</th>\n",
       "      <th>k_prohlidce</th>\n",
       "    </tr>\n",
       "    <tr>\n",
       "      <th>nazev_cz</th>\n",
       "      <th></th>\n",
       "      <th></th>\n",
       "      <th></th>\n",
       "      <th></th>\n",
       "      <th></th>\n",
       "    </tr>\n",
       "  </thead>\n",
       "  <tbody>\n",
       "    <tr>\n",
       "      <th>Outloň váhavý</th>\n",
       "      <td>749</td>\n",
       "      <td>Sunda slow loris</td>\n",
       "      <td>Savci</td>\n",
       "      <td>2000</td>\n",
       "      <td>1</td>\n",
       "    </tr>\n",
       "  </tbody>\n",
       "</table>\n",
       "</div>"
      ],
      "text/plain": [
       "                id          nazev_en trida_cz  cena  k_prohlidce\n",
       "nazev_cz                                                        \n",
       "Outloň váhavý  749  Sunda slow loris    Savci  2000            1"
      ]
     },
     "execution_count": 257,
     "metadata": {},
     "output_type": "execute_result"
    }
   ],
   "source": [
    "# Vyhledej řádek indexovaný názvem \"Outloň váhavý\". Namísto metody .iloc využij .loc.\n",
    "adopce.loc[[\"Outloň váhavý\"]]"
   ]
  },
  {
   "cell_type": "code",
   "execution_count": null,
   "metadata": {},
   "outputs": [],
   "source": [
    "# Rozsahy fungují podobně jako u číselných indexů. Vyhledej záznamy mezi \"Želva Smithova\" a \"Želva žlutočelá\".\n",
    "# adopce.loc[\"Želva Smithova\":\"Želva žlutočelá\"]\n",
    "adopce.loc[\"Lezec\":\"Batagur tuntong\"]"
   ]
  }
 ],
 "metadata": {
  "kernelspec": {
   "display_name": "Python 3.9.10 64-bit",
   "language": "python",
   "name": "python3"
  },
  "language_info": {
   "codemirror_mode": {
    "name": "ipython",
    "version": 3
   },
   "file_extension": ".py",
   "mimetype": "text/x-python",
   "name": "python",
   "nbconvert_exporter": "python",
   "pygments_lexer": "ipython3",
   "version": "3.9.10"
  },
  "orig_nbformat": 4,
  "vscode": {
   "interpreter": {
    "hash": "e38bf14dbde2cc2b1c65074191568ca4c09c3e7a291e54e47c835aecf1cf853f"
   }
  }
 },
 "nbformat": 4,
 "nbformat_minor": 2
}
